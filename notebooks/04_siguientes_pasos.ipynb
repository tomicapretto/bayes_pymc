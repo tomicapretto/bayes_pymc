{
 "cells": [
  {
   "cell_type": "markdown",
   "metadata": {},
   "source": [
    "## Blogs\n",
    "\n",
    "Acá debajo se incluyen enlaces a blogs de miembros de la comunidad que frecuentemente escriben cosas que tienen que ver con estadística bayesiana, PyMC, algoritmos de muestreo, diagnósticos, casos de estudio, etc. \n",
    "\n",
    "* [Austin Rochford](https://austinrochford.com/)\n",
    "* [Colin Carroll](https://colindcarroll.com/)\n",
    "* [Juan Orduz](https://juanitorduz.github.io/)\n",
    "* [Oriol Abril Pla](https://oriolabrilpla.cat/)\n",
    "* [Thomas Wiecki](https://twiecki.io/)"
   ]
  },
  {
   "cell_type": "markdown",
   "metadata": {},
   "source": [
    "## Repositorios tutoriales\n",
    "\n",
    "El siguiente listado contiene repositorios que han sido usados para dar cursos o talleres sobre estadística bayesiana y PyMC.\n",
    "\n",
    "* [Probabilistic Programming and Bayesian Computing with PyMC - SDSS 2024 Tutorial (Chris Fonnesbeck)](https://github.com/fonnesbeck/pymc_sdss_2024)\n",
    "* [Probabilistic Programming and Bayesian Computing with PyMC - Course (Chris Fonnesbeck)](https://github.com/fonnesbeck/bayes_course_june_2024)\n",
    "* [Estadística e Inferencia (Osvaldo Martin)](https://github.com/LCD-UNSAM/estadistica_e_inferencia_II)\n"
   ]
  },
  {
   "cell_type": "markdown",
   "metadata": {},
   "source": [
    "## Dónde buscar ayuda\n",
    "\n",
    "* [PyMC Discourse](https://discourse.pymc.io/): Es un foro de PyMC donde personas comparten inquietudes o problemas y otras personas tratan de ayudar. Es un ambiente muy amigable y se alienta a que los usuarios canalicen sus dudas relacionadas al uso de PyMC por este canal. \n",
    "* [PyMC Example Gallery](https://www.pymc.io/projects/examples/en/latest/gallery.html): Es una galería con decenas de ejemplos en PyMC. No todos están actualizados a los últimos cambios de la librería, pero sigue siendo útil para inspirarse o despejar dudas.\n",
    "* [PyMC API Documentation](https://www.pymc.io/projects/docs/en/stable/api.html): Describe el funcionamiento de la interface de PyMC. Por ejemplo, si uno no sabe como se parametriza una distribución, o cuales distribuciones están disponibles en PyMC, en esa sección de la web se encuentra la ayuda.\n",
    "* [PyMC Issues](https://github.com/pymc-devs/pymc/issues): Es una lugar donde usuarios y desarrolladores reportan errores, sugerieren nuevas funciones o discutir cualquier tema relacionado con el desarrollo de PyMC. No es el primer lugar donde uno debería buscar ayuda, para eso está Discourse. Sin embargo, es un lugar donde uno se puede poner al tanto de lo que está pasando en el proyecto y tal vez entender por qué algo funciona de un manera determinada (o por qué no funciona)."
   ]
  },
  {
   "cell_type": "markdown",
   "metadata": {},
   "source": [
    "## Libros recomendados\n",
    "\n",
    "Lo siguiente no es una lista exhaustiva. Es, simplemente, una colección arbitraria de libros que se creen útiles para adentrarse en el mundo de la estadística bayesiana moderna.\n",
    "\n",
    "* [A Student’s Guide to Bayesian Statistics](https://ben-lambert.com/a-students-guide-to-bayesian-statistics/)\n",
    "* [Bayes Rules! An Introduction to Bayesian Modeling](https://www.bayesrulesbook.com/)\n",
    "* [Bayesian Analysis with Python](https://www.amazon.com/Bayesian-Analysis-Python-Practical-probabilistic/dp/1805127160/) ([código](https://github.com/aloctavodia/BAP3))\n",
    "* [Bayesian Modeling and Computation in Python](https://bayesiancomputationbook.com/)\n",
    "* [Bayesian Statistical Methods](https://www.routledge.com/Bayesian-Statistical-Methods/Reich-Ghosh/p/book/9781032093185)\n",
    "* [Doing Bayesian Data Analysis: A Tutorial with R, JAGS, and Stan](https://jkkweb.sitehost.iu.edu/DoingBayesianDataAnalysis/)\n",
    "* [Regression and Other Stories](https://www.cambridge.org/highereducation/books/regression-and-other-stories/DD20DD6C9057118581076E54E40C372C#overview) ([ejemplos](https://avehtari.github.io/ROS-Examples/))\n",
    "* [Statistical Rethinking](https://xcelab.net/rm/)\n",
    "* [Think Bayes: Bayesian Statistics in Python](https://greenteapress.com/wp/think-bayes/)"
   ]
  },
  {
   "cell_type": "markdown",
   "metadata": {},
   "source": [
    "## Otros\n",
    "\n",
    "* [Statistical Modeling, Causal Inference, and Social Science](https://statmodeling.stat.columbia.edu/): Es el blog de Andrew Gelman, donde él y muchas otras personas del multiverso bayesiano escriben y debaten sobre una grandísima cantidad de temas.\n",
    "* [Blog de PyMC Labs](https://www.pymc-labs.com/blog-posts/): Pueden encontrar casos de estudio, nuevas aplicaciones o recomendaciones sobre como utilizar PyMC para resolver problemas particulares.\n",
    "* [Canal de YouTube de PyMC Labs](https://www.youtube.com/@PyMCLabs/videos): Frecuentemente en PyMC Labs se realizan _webinars_ con clientes con los que se desarrollan proyectos que usan modelos bayesianos implementados en PyMC. También suelen haber charlas sobre alguna característica nueva de la librería.\n",
    "* [El podcast Learning Bayesian Statistics de Alex Andorra](https://learnbayesstats.com/): Con más de 100 episodios, Learning Bayesian Statistics explora temas relacionados con la estadística bayesiana, sus aplicaciones en diversas disciplinas y la gente que lo hace posible.\n",
    "* [30 short puzzles on probability](https://github.com/ricardoV94/probability-puzzles): Un repositorio que 30 desafíos o acertijos que consisten en derivar distribuciones de probabilidad a partir de otras, utilizando PyMC."
   ]
  }
 ],
 "metadata": {
  "language_info": {
   "name": "python"
  }
 },
 "nbformat": 4,
 "nbformat_minor": 2
}
